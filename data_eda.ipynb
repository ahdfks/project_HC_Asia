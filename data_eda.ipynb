{
 "cells": [
  {
   "cell_type": "code",
   "execution_count": 1,
   "metadata": {},
   "outputs": [],
   "source": [
    "import pandas as pd\n",
    "import matplotlib.pyplot as plt\n",
    "import seaborn as sns"
   ]
  },
  {
   "cell_type": "code",
   "execution_count": 2,
   "metadata": {},
   "outputs": [
    {
     "data": {
      "text/html": [
       "<div>\n",
       "<style scoped>\n",
       "    .dataframe tbody tr th:only-of-type {\n",
       "        vertical-align: middle;\n",
       "    }\n",
       "\n",
       "    .dataframe tbody tr th {\n",
       "        vertical-align: top;\n",
       "    }\n",
       "\n",
       "    .dataframe thead th {\n",
       "        text-align: right;\n",
       "    }\n",
       "</style>\n",
       "<table border=\"1\" class=\"dataframe\">\n",
       "  <thead>\n",
       "    <tr style=\"text-align: right;\">\n",
       "      <th></th>\n",
       "      <th>company_id</th>\n",
       "      <th>No.</th>\n",
       "      <th>profile_url</th>\n",
       "      <th>name</th>\n",
       "      <th>type</th>\n",
       "      <th>website</th>\n",
       "      <th>staff_count</th>\n",
       "      <th>follower_count</th>\n",
       "      <th>description</th>\n",
       "      <th>found_yr</th>\n",
       "      <th>HQ</th>\n",
       "      <th>city</th>\n",
       "      <th>province</th>\n",
       "      <th>industries</th>\n",
       "      <th>specialities</th>\n",
       "      <th>company_name</th>\n",
       "      <th>age_of_company</th>\n",
       "      <th>spec_len</th>\n",
       "      <th>certification_by</th>\n",
       "      <th>desc_len</th>\n",
       "    </tr>\n",
       "  </thead>\n",
       "  <tbody>\n",
       "    <tr>\n",
       "      <th>0</th>\n",
       "      <td>3997932</td>\n",
       "      <td>1</td>\n",
       "      <td>https://www.linkedin.com/company/jiangsu-hengr...</td>\n",
       "      <td>Jiangsu Hengrui Medicine  Co.,Ltd.</td>\n",
       "      <td>PUBLIC_COMPANY</td>\n",
       "      <td>http://www.hrs.com.cn</td>\n",
       "      <td>3269</td>\n",
       "      <td>13083</td>\n",
       "      <td>Hengrui Medicine is a leading pharmaceutical c...</td>\n",
       "      <td>1970</td>\n",
       "      <td>CN</td>\n",
       "      <td>Lianyungang</td>\n",
       "      <td>JS</td>\n",
       "      <td>Pharmaceuticals</td>\n",
       "      <td>Pharmaceutical research and development, produ...</td>\n",
       "      <td>hengrui medicine</td>\n",
       "      <td>51</td>\n",
       "      <td>130</td>\n",
       "      <td>NaN</td>\n",
       "      <td>944</td>\n",
       "    </tr>\n",
       "    <tr>\n",
       "      <th>1</th>\n",
       "      <td>6168379</td>\n",
       "      <td>2</td>\n",
       "      <td>https://www.linkedin.com/company/celltrionheal...</td>\n",
       "      <td>Celltrion Healthcare Co.,Ltd.</td>\n",
       "      <td>PUBLIC_COMPANY</td>\n",
       "      <td>http://www.celltrionhealthcare.com</td>\n",
       "      <td>246</td>\n",
       "      <td>26211</td>\n",
       "      <td>Celltrion Healthcare conducts worldwide market...</td>\n",
       "      <td>1999</td>\n",
       "      <td>KR</td>\n",
       "      <td>Incheon</td>\n",
       "      <td>NaN</td>\n",
       "      <td>Pharmaceuticals</td>\n",
       "      <td>autoimmune disease</td>\n",
       "      <td>celltrion healthcare</td>\n",
       "      <td>22</td>\n",
       "      <td>18</td>\n",
       "      <td>EMA</td>\n",
       "      <td>480</td>\n",
       "    </tr>\n",
       "    <tr>\n",
       "      <th>2</th>\n",
       "      <td>327615</td>\n",
       "      <td>3</td>\n",
       "      <td>https://www.linkedin.com/company/microport-lif...</td>\n",
       "      <td>Shanghai MicroPort Medical (Group) Co.,Ltd.</td>\n",
       "      <td>PUBLIC_COMPANY</td>\n",
       "      <td>http://www.microport.com.cn</td>\n",
       "      <td>635</td>\n",
       "      <td>12352</td>\n",
       "      <td>MicroPort Scientific Corporation can trace its...</td>\n",
       "      <td>1998</td>\n",
       "      <td>CN</td>\n",
       "      <td>Shanghai</td>\n",
       "      <td>SH</td>\n",
       "      <td>Medical Device</td>\n",
       "      <td>cardiology, orthopedics, interventional radiol...</td>\n",
       "      <td>microport medical (group)</td>\n",
       "      <td>23</td>\n",
       "      <td>121</td>\n",
       "      <td>NaN</td>\n",
       "      <td>1561</td>\n",
       "    </tr>\n",
       "    <tr>\n",
       "      <th>3</th>\n",
       "      <td>3995425</td>\n",
       "      <td>4</td>\n",
       "      <td>https://www.linkedin.com/company/Shanghai-phar...</td>\n",
       "      <td>Shang hai Pharmaceuticals Holding Co.,Ltd.</td>\n",
       "      <td>PUBLIC_COMPANY</td>\n",
       "      <td>http://www.microport.com.cn</td>\n",
       "      <td>349</td>\n",
       "      <td>7846</td>\n",
       "      <td>Shanghai Pharmaceuticals Holding Co. Ltd. (“SP...</td>\n",
       "      <td>1998</td>\n",
       "      <td>CN</td>\n",
       "      <td>Shanghai</td>\n",
       "      <td>SH</td>\n",
       "      <td>Pharmaceuticals</td>\n",
       "      <td>NaN</td>\n",
       "      <td>shang hai pharmaceuticals holding</td>\n",
       "      <td>23</td>\n",
       "      <td>4</td>\n",
       "      <td>NaN</td>\n",
       "      <td>669</td>\n",
       "    </tr>\n",
       "    <tr>\n",
       "      <th>4</th>\n",
       "      <td>2601440</td>\n",
       "      <td>5</td>\n",
       "      <td>https://www.linkedin.com/company/Nanjing-perlo...</td>\n",
       "      <td>Perlove Medical Equipment Co.,ltd</td>\n",
       "      <td>PUBLIC_COMPANY</td>\n",
       "      <td>http://www.perlove.com.cn/</td>\n",
       "      <td>125</td>\n",
       "      <td>2322</td>\n",
       "      <td>Nanjing Perlove Medical Equipment Co., Ltd. wa...</td>\n",
       "      <td>2003</td>\n",
       "      <td>CN</td>\n",
       "      <td>Nanjing</td>\n",
       "      <td>JS</td>\n",
       "      <td>Medical Device</td>\n",
       "      <td>x ray machine,Medical equipment,Imaging system...</td>\n",
       "      <td>perlove medical equipment</td>\n",
       "      <td>18</td>\n",
       "      <td>68</td>\n",
       "      <td>NaN</td>\n",
       "      <td>337</td>\n",
       "    </tr>\n",
       "  </tbody>\n",
       "</table>\n",
       "</div>"
      ],
      "text/plain": [
       "   company_id  No.                                        profile_url  \\\n",
       "0     3997932    1  https://www.linkedin.com/company/jiangsu-hengr...   \n",
       "1     6168379    2  https://www.linkedin.com/company/celltrionheal...   \n",
       "2      327615    3  https://www.linkedin.com/company/microport-lif...   \n",
       "3     3995425    4  https://www.linkedin.com/company/Shanghai-phar...   \n",
       "4     2601440    5  https://www.linkedin.com/company/Nanjing-perlo...   \n",
       "\n",
       "                                          name            type  \\\n",
       "0           Jiangsu Hengrui Medicine  Co.,Ltd.  PUBLIC_COMPANY   \n",
       "1                Celltrion Healthcare Co.,Ltd.  PUBLIC_COMPANY   \n",
       "2  Shanghai MicroPort Medical (Group) Co.,Ltd.  PUBLIC_COMPANY   \n",
       "3   Shang hai Pharmaceuticals Holding Co.,Ltd.  PUBLIC_COMPANY   \n",
       "4            Perlove Medical Equipment Co.,ltd  PUBLIC_COMPANY   \n",
       "\n",
       "                              website  staff_count  follower_count  \\\n",
       "0               http://www.hrs.com.cn         3269           13083   \n",
       "1  http://www.celltrionhealthcare.com          246           26211   \n",
       "2         http://www.microport.com.cn          635           12352   \n",
       "3         http://www.microport.com.cn          349            7846   \n",
       "4          http://www.perlove.com.cn/          125            2322   \n",
       "\n",
       "                                         description  found_yr  HQ  \\\n",
       "0  Hengrui Medicine is a leading pharmaceutical c...      1970  CN   \n",
       "1  Celltrion Healthcare conducts worldwide market...      1999  KR   \n",
       "2  MicroPort Scientific Corporation can trace its...      1998  CN   \n",
       "3  Shanghai Pharmaceuticals Holding Co. Ltd. (“SP...      1998  CN   \n",
       "4  Nanjing Perlove Medical Equipment Co., Ltd. wa...      2003  CN   \n",
       "\n",
       "          city province       industries  \\\n",
       "0  Lianyungang       JS  Pharmaceuticals   \n",
       "1      Incheon      NaN  Pharmaceuticals   \n",
       "2     Shanghai       SH   Medical Device   \n",
       "3     Shanghai       SH  Pharmaceuticals   \n",
       "4      Nanjing       JS   Medical Device   \n",
       "\n",
       "                                        specialities  \\\n",
       "0  Pharmaceutical research and development, produ...   \n",
       "1                                 autoimmune disease   \n",
       "2  cardiology, orthopedics, interventional radiol...   \n",
       "3                                                NaN   \n",
       "4  x ray machine,Medical equipment,Imaging system...   \n",
       "\n",
       "                         company_name  age_of_company  spec_len  \\\n",
       "0                  hengrui medicine                51       130   \n",
       "1               celltrion healthcare               22        18   \n",
       "2          microport medical (group)               23       121   \n",
       "3  shang hai pharmaceuticals holding               23         4   \n",
       "4          perlove medical equipment               18        68   \n",
       "\n",
       "  certification_by  desc_len  \n",
       "0              NaN       944  \n",
       "1              EMA       480  \n",
       "2              NaN      1561  \n",
       "3              NaN       669  \n",
       "4              NaN       337  "
      ]
     },
     "execution_count": 2,
     "metadata": {},
     "output_type": "execute_result"
    }
   ],
   "source": [
    "df = pd.read_csv('hc_companies_cleaned.csv')\n",
    "df.head()"
   ]
  },
  {
   "cell_type": "code",
   "execution_count": 3,
   "metadata": {
    "scrolled": true
   },
   "outputs": [
    {
     "data": {
      "text/plain": [
       "<AxesSubplot:>"
      ]
     },
     "execution_count": 3,
     "metadata": {},
     "output_type": "execute_result"
    },
    {
     "data": {
      "image/png": "[encoded data removed]",
      "text/plain": [
       "<Figure size 432x288 with 1 Axes>"
      ]
     },
     "metadata": {
      "needs_background": "light"
     },
     "output_type": "display_data"
    }
   ],
   "source": [
    "#type of ownership distribution \n",
    "df.type.hist(xrot = 45)"
   ]
  },
  {
   "cell_type": "code",
   "execution_count": 4,
   "metadata": {},
   "outputs": [
    {
     "data": {
      "text/plain": [
       "<AxesSubplot:>"
      ]
     },
     "execution_count": 4,
     "metadata": {},
     "output_type": "execute_result"
    },
    {
     "data": {
      "image/png": "[encoded data removed]",
      "text/plain": [
       "<Figure size 432x288 with 1 Axes>"
      ]
     },
     "metadata": {
      "needs_background": "light"
     },
     "output_type": "display_data"
    }
   ],
   "source": [
    "#companies distribution by country level\n",
    "df.HQ.hist()"
   ]
  },
  {
   "cell_type": "code",
   "execution_count": 5,
   "metadata": {
    "scrolled": true
   },
   "outputs": [
    {
     "data": {
      "text/plain": [
       "<AxesSubplot:>"
      ]
     },
     "execution_count": 5,
     "metadata": {},
     "output_type": "execute_result"
    },
    {
     "data": {
      "image/png": "[encoded data removed]",
      "text/plain": [
       "<Figure size 432x288 with 1 Axes>"
      ]
     },
     "metadata": {
      "needs_background": "light"
     },
     "output_type": "display_data"
    }
   ],
   "source": [
    "#industry distribution\n",
    "df.industries.hist()"
   ]
  },
  {
   "cell_type": "code",
   "execution_count": 6,
   "metadata": {},
   "outputs": [
    {
     "data": {
      "text/plain": [
       "<AxesSubplot:>"
      ]
     },
     "execution_count": 6,
     "metadata": {},
     "output_type": "execute_result"
    },
    {
     "data": {
      "image/png": "[encoded data removed]",
      "text/plain": [
       "<Figure size 432x288 with 1 Axes>"
      ]
     },
     "metadata": {
      "needs_background": "light"
     },
     "output_type": "display_data"
    }
   ],
   "source": [
    "#industry distribution by Country level\n",
    "df[df['HQ'].apply(lambda x: x=='CN')].industries.hist()"
   ]
  },
  {
   "cell_type": "code",
   "execution_count": 7,
   "metadata": {},
   "outputs": [
    {
     "data": {
      "text/plain": [
       "False    607\n",
       "True     267\n",
       "Name: industries, dtype: int64"
      ]
     },
     "execution_count": 7,
     "metadata": {},
     "output_type": "execute_result"
    }
   ],
   "source": [
    "df[df['HQ'].apply(lambda x: x=='CN')].industries.apply(lambda x: x=='Pharmaceuticals').value_counts()"
   ]
  },
  {
   "cell_type": "code",
   "execution_count": 8,
   "metadata": {
    "scrolled": true
   },
   "outputs": [
    {
     "data": {
      "text/plain": [
       "<AxesSubplot:>"
      ]
     },
     "execution_count": 8,
     "metadata": {},
     "output_type": "execute_result"
    },
    {
     "data": {
      "image/png": "[encoded data removed]",
      "text/plain": [
       "<Figure size 432x288 with 1 Axes>"
      ]
     },
     "metadata": {
      "needs_background": "light"
     },
     "output_type": "display_data"
    }
   ],
   "source": [
    "#certification distribution\n",
    "df.certification_by.hist()"
   ]
  },
  {
   "cell_type": "code",
   "execution_count": 9,
   "metadata": {},
   "outputs": [
    {
     "data": {
      "text/plain": [
       "False    1096\n",
       "True        3\n",
       "Name: certification_by, dtype: int64"
      ]
     },
     "execution_count": 9,
     "metadata": {},
     "output_type": "execute_result"
    }
   ],
   "source": [
    "df.certification_by.apply(lambda x: x=='EMA').value_counts()"
   ]
  },
  {
   "cell_type": "code",
   "execution_count": 10,
   "metadata": {},
   "outputs": [
    {
     "data": {
      "text/plain": [
       "<AxesSubplot:>"
      ]
     },
     "execution_count": 10,
     "metadata": {},
     "output_type": "execute_result"
    },
    {
     "data": {
      "image/png": "[encoded data removed]",
      "text/plain": [
       "<Figure size 432x288 with 1 Axes>"
      ]
     },
     "metadata": {
      "needs_background": "light"
     },
     "output_type": "display_data"
    }
   ],
   "source": [
    "#certification distribution by country level(i.e.China)\n",
    "df[df['HQ'].apply(lambda x: x=='CN')].certification_by.hist()"
   ]
  },
  {
   "cell_type": "code",
   "execution_count": 11,
   "metadata": {},
   "outputs": [
    {
     "data": {
      "text/plain": [
       "False    873\n",
       "True       1\n",
       "Name: certification_by, dtype: int64"
      ]
     },
     "execution_count": 11,
     "metadata": {},
     "output_type": "execute_result"
    }
   ],
   "source": [
    "df[df['HQ'].apply(lambda x: x=='CN')].certification_by.apply(lambda x: x=='EMA').value_counts()"
   ]
  },
  {
   "cell_type": "code",
   "execution_count": 12,
   "metadata": {},
   "outputs": [
    {
     "name": "stdout",
     "output_type": "stream",
     "text": [
      "graph for type: total =6\n"
     ]
    },
    {
     "data": {
      "image/png": "[encoded data removed]",
      "text/plain": [
       "<Figure size 432x288 with 1 Axes>"
      ]
     },
     "metadata": {
      "needs_background": "light"
     },
     "output_type": "display_data"
    },
    {
     "name": "stdout",
     "output_type": "stream",
     "text": [
      "graph for staff_count: total =165\n"
     ]
    },
    {
     "data": {
      "image/png": "[encoded data removed]",
      "text/plain": [
       "<Figure size 432x288 with 1 Axes>"
      ]
     },
     "metadata": {
      "needs_background": "light"
     },
     "output_type": "display_data"
    },
    {
     "name": "stdout",
     "output_type": "stream",
     "text": [
      "graph for follower_count: total =440\n"
     ]
    },
    {
     "data": {
      "image/png": "[encoded data removed]",
      "text/plain": [
       "<Figure size 432x288 with 1 Axes>"
      ]
     },
     "metadata": {
      "needs_background": "light"
     },
     "output_type": "display_data"
    },
    {
     "name": "stdout",
     "output_type": "stream",
     "text": [
      "graph for HQ: total =3\n"
     ]
    },
    {
     "data": {
      "image/png": "[encoded data removed]",
      "text/plain": [
       "<Figure size 432x288 with 1 Axes>"
      ]
     },
     "metadata": {
      "needs_background": "light"
     },
     "output_type": "display_data"
    },
    {
     "name": "stdout",
     "output_type": "stream",
     "text": [
      "graph for city: total =188\n"
     ]
    },
    {
     "data": {
      "image/png": "[encoded data removed]",
      "text/plain": [
       "<Figure size 432x288 with 1 Axes>"
      ]
     },
     "metadata": {
      "needs_background": "light"
     },
     "output_type": "display_data"
    },
    {
     "name": "stdout",
     "output_type": "stream",
     "text": [
      "graph for province: total =29\n"
     ]
    },
    {
     "data": {
      "image/png": "[encoded data removed]",
      "text/plain": [
       "<Figure size 432x288 with 1 Axes>"
      ]
     },
     "metadata": {
      "needs_background": "light"
     },
     "output_type": "display_data"
    },
    {
     "name": "stdout",
     "output_type": "stream",
     "text": [
      "graph for industries: total =3\n"
     ]
    },
    {
     "data": {
      "image/png": "[encoded data removed]",
      "text/plain": [
       "<Figure size 432x288 with 1 Axes>"
      ]
     },
     "metadata": {
      "needs_background": "light"
     },
     "output_type": "display_data"
    },
    {
     "name": "stdout",
     "output_type": "stream",
     "text": [
      "graph for age_of_company: total =61\n"
     ]
    },
    {
     "data": {
      "image/png": "[encoded data removed]",
      "text/plain": [
       "<Figure size 432x288 with 1 Axes>"
      ]
     },
     "metadata": {
      "needs_background": "light"
     },
     "output_type": "display_data"
    },
    {
     "name": "stdout",
     "output_type": "stream",
     "text": [
      "graph for certification_by: total =3\n"
     ]
    },
    {
     "data": {
      "image/png": "[encoded data removed]",
      "text/plain": [
       "<Figure size 432x288 with 1 Axes>"
      ]
     },
     "metadata": {
      "needs_background": "light"
     },
     "output_type": "display_data"
    }
   ],
   "source": [
    "df_cat = df[['type','staff_count', 'follower_count','HQ','city','province','industries','age_of_company','certification_by']]\n",
    "\n",
    "for i in df_cat.columns:\n",
    "     cat_num = df_cat[i].value_counts()\n",
    "     print(\"graph for %s: total =%d\" % (i, len(cat_num))) \n",
    "     chart = sns.barplot(x=cat_num.index, y=cat_num) \n",
    "     chart.set_xticklabels(chart.get_xticklabels(), rotation = 90)\n",
    "     plt.tight_layout()\n",
    "     plt.show()\n",
    "\n"
   ]
  },
  {
   "cell_type": "code",
   "execution_count": 13,
   "metadata": {
    "scrolled": true
   },
   "outputs": [
    {
     "data": {
      "text/plain": [
       "shenzhen        107\n",
       "shanghai         86\n",
       "beijing          84\n",
       "seoul            55\n",
       "hangzhou         42\n",
       "               ... \n",
       "linyi             1\n",
       "yilan             1\n",
       "taizhou           1\n",
       "pingdingshan      1\n",
       "yanji             1\n",
       "Name: city, Length: 188, dtype: int64"
      ]
     },
     "execution_count": 13,
     "metadata": {},
     "output_type": "execute_result"
    }
   ],
   "source": [
    "pd.set_option('display.max_rows', 20)\n",
    "df.city.apply(lambda x: x.lower()).value_counts().dropna()"
   ]
  },
  {
   "cell_type": "code",
   "execution_count": 14,
   "metadata": {},
   "outputs": [
    {
     "data": {
      "text/html": [
       "<div>\n",
       "<style scoped>\n",
       "    .dataframe tbody tr th:only-of-type {\n",
       "        vertical-align: middle;\n",
       "    }\n",
       "\n",
       "    .dataframe tbody tr th {\n",
       "        vertical-align: top;\n",
       "    }\n",
       "\n",
       "    .dataframe thead th {\n",
       "        text-align: right;\n",
       "    }\n",
       "</style>\n",
       "<table border=\"1\" class=\"dataframe\">\n",
       "  <thead>\n",
       "    <tr style=\"text-align: right;\">\n",
       "      <th></th>\n",
       "      <th></th>\n",
       "      <th>comp_count</th>\n",
       "    </tr>\n",
       "    <tr>\n",
       "      <th>province</th>\n",
       "      <th>city</th>\n",
       "      <th></th>\n",
       "    </tr>\n",
       "  </thead>\n",
       "  <tbody>\n",
       "    <tr>\n",
       "      <th>GD</th>\n",
       "      <th>Shenzhen</th>\n",
       "      <td>107</td>\n",
       "    </tr>\n",
       "    <tr>\n",
       "      <th>SH</th>\n",
       "      <th>Shanghai</th>\n",
       "      <td>86</td>\n",
       "    </tr>\n",
       "    <tr>\n",
       "      <th>BJ</th>\n",
       "      <th>Beijing</th>\n",
       "      <td>84</td>\n",
       "    </tr>\n",
       "    <tr>\n",
       "      <th>ZJ</th>\n",
       "      <th>Hangzhou</th>\n",
       "      <td>42</td>\n",
       "    </tr>\n",
       "    <tr>\n",
       "      <th rowspan=\"2\" valign=\"top\">JS</th>\n",
       "      <th>Nanjing</th>\n",
       "      <td>29</td>\n",
       "    </tr>\n",
       "    <tr>\n",
       "      <th>Suzhou</th>\n",
       "      <td>26</td>\n",
       "    </tr>\n",
       "    <tr>\n",
       "      <th>GD</th>\n",
       "      <th>Guangzhou</th>\n",
       "      <td>26</td>\n",
       "    </tr>\n",
       "    <tr>\n",
       "      <th>HB</th>\n",
       "      <th>Wuhan</th>\n",
       "      <td>24</td>\n",
       "    </tr>\n",
       "    <tr>\n",
       "      <th>SN</th>\n",
       "      <th>Xi’an</th>\n",
       "      <td>20</td>\n",
       "    </tr>\n",
       "    <tr>\n",
       "      <th>SC</th>\n",
       "      <th>Chengdu</th>\n",
       "      <td>20</td>\n",
       "    </tr>\n",
       "  </tbody>\n",
       "</table>\n",
       "</div>"
      ],
      "text/plain": [
       "                    comp_count\n",
       "province city                 \n",
       "GD       Shenzhen          107\n",
       "SH       Shanghai           86\n",
       "BJ       Beijing            84\n",
       "ZJ       Hangzhou           42\n",
       "JS       Nanjing            29\n",
       "         Suzhou             26\n",
       "GD       Guangzhou          26\n",
       "HB       Wuhan              24\n",
       "SN       Xi’an              20\n",
       "SC       Chengdu            20"
      ]
     },
     "execution_count": 14,
     "metadata": {},
     "output_type": "execute_result"
    }
   ],
   "source": [
    "#HC companies distribution in China\n",
    "CN_pv = pd.pivot_table(\n",
    "                   df[df.HQ == 'CN'], index = ['province', 'city'], \n",
    "                   values = 'company_name', \n",
    "                   aggfunc= 'count'\n",
    "                     ).sort_values('company_name', ascending = False).dropna()\n",
    "CN_pv.rename(columns = {'company_name':'comp_count'}, inplace = True)\n",
    "CN_pv.head(10)"
   ]
  },
  {
   "cell_type": "code",
   "execution_count": 15,
   "metadata": {},
   "outputs": [
    {
     "data": {
      "text/html": [
       "<div>\n",
       "<style scoped>\n",
       "    .dataframe tbody tr th:only-of-type {\n",
       "        vertical-align: middle;\n",
       "    }\n",
       "\n",
       "    .dataframe tbody tr th {\n",
       "        vertical-align: top;\n",
       "    }\n",
       "\n",
       "    .dataframe thead th {\n",
       "        text-align: right;\n",
       "    }\n",
       "</style>\n",
       "<table border=\"1\" class=\"dataframe\">\n",
       "  <thead>\n",
       "    <tr style=\"text-align: right;\">\n",
       "      <th></th>\n",
       "      <th>comp_count</th>\n",
       "    </tr>\n",
       "    <tr>\n",
       "      <th>city</th>\n",
       "      <th></th>\n",
       "    </tr>\n",
       "  </thead>\n",
       "  <tbody>\n",
       "    <tr>\n",
       "      <th>Seoul</th>\n",
       "      <td>55</td>\n",
       "    </tr>\n",
       "    <tr>\n",
       "      <th>Daejeon</th>\n",
       "      <td>18</td>\n",
       "    </tr>\n",
       "    <tr>\n",
       "      <th>Seongnam</th>\n",
       "      <td>17</td>\n",
       "    </tr>\n",
       "    <tr>\n",
       "      <th>Incheon</th>\n",
       "      <td>6</td>\n",
       "    </tr>\n",
       "    <tr>\n",
       "      <th>Suwon</th>\n",
       "      <td>4</td>\n",
       "    </tr>\n",
       "    <tr>\n",
       "      <th>Chuncheon</th>\n",
       "      <td>3</td>\n",
       "    </tr>\n",
       "    <tr>\n",
       "      <th>Daegu</th>\n",
       "      <td>3</td>\n",
       "    </tr>\n",
       "    <tr>\n",
       "      <th>Yongin</th>\n",
       "      <td>2</td>\n",
       "    </tr>\n",
       "    <tr>\n",
       "      <th>Wonju</th>\n",
       "      <td>2</td>\n",
       "    </tr>\n",
       "    <tr>\n",
       "      <th>Busan</th>\n",
       "      <td>2</td>\n",
       "    </tr>\n",
       "  </tbody>\n",
       "</table>\n",
       "</div>"
      ],
      "text/plain": [
       "           comp_count\n",
       "city                 \n",
       "Seoul              55\n",
       "Daejeon            18\n",
       "Seongnam           17\n",
       "Incheon             6\n",
       "Suwon               4\n",
       "Chuncheon           3\n",
       "Daegu               3\n",
       "Yongin              2\n",
       "Wonju               2\n",
       "Busan               2"
      ]
     },
     "execution_count": 15,
     "metadata": {},
     "output_type": "execute_result"
    }
   ],
   "source": [
    "#HC companies distribution in South Korea\n",
    "KR_pv = pd.pivot_table(\n",
    "                   df[df.HQ == 'KR'], index = 'city', \n",
    "                   values = 'company_name', \n",
    "                   aggfunc= 'count'\n",
    "                     ).sort_values('company_name', ascending = False).dropna()\n",
    "KR_pv.rename(columns = {'company_name':'comp_count'}, inplace = True)\n",
    "KR_pv.head(10)"
   ]
  },
  {
   "cell_type": "code",
   "execution_count": 16,
   "metadata": {},
   "outputs": [
    {
     "data": {
      "text/html": [
       "<div>\n",
       "<style scoped>\n",
       "    .dataframe tbody tr th:only-of-type {\n",
       "        vertical-align: middle;\n",
       "    }\n",
       "\n",
       "    .dataframe tbody tr th {\n",
       "        vertical-align: top;\n",
       "    }\n",
       "\n",
       "    .dataframe thead th {\n",
       "        text-align: right;\n",
       "    }\n",
       "</style>\n",
       "<table border=\"1\" class=\"dataframe\">\n",
       "  <thead>\n",
       "    <tr style=\"text-align: right;\">\n",
       "      <th></th>\n",
       "      <th>comp_count</th>\n",
       "    </tr>\n",
       "    <tr>\n",
       "      <th>city</th>\n",
       "      <th></th>\n",
       "    </tr>\n",
       "  </thead>\n",
       "  <tbody>\n",
       "    <tr>\n",
       "      <th>Taipei</th>\n",
       "      <td>38</td>\n",
       "    </tr>\n",
       "    <tr>\n",
       "      <th>New Taipei City</th>\n",
       "      <td>16</td>\n",
       "    </tr>\n",
       "    <tr>\n",
       "      <th>Kaohsiung</th>\n",
       "      <td>7</td>\n",
       "    </tr>\n",
       "    <tr>\n",
       "      <th>Hsinchu</th>\n",
       "      <td>5</td>\n",
       "    </tr>\n",
       "    <tr>\n",
       "      <th>Taoyuan</th>\n",
       "      <td>5</td>\n",
       "    </tr>\n",
       "    <tr>\n",
       "      <th>Zhubei</th>\n",
       "      <td>5</td>\n",
       "    </tr>\n",
       "    <tr>\n",
       "      <th>Taichung</th>\n",
       "      <td>4</td>\n",
       "    </tr>\n",
       "    <tr>\n",
       "      <th>Tainan</th>\n",
       "      <td>4</td>\n",
       "    </tr>\n",
       "    <tr>\n",
       "      <th>Changhua</th>\n",
       "      <td>1</td>\n",
       "    </tr>\n",
       "    <tr>\n",
       "      <th>Chiayi</th>\n",
       "      <td>1</td>\n",
       "    </tr>\n",
       "  </tbody>\n",
       "</table>\n",
       "</div>"
      ],
      "text/plain": [
       "                 comp_count\n",
       "city                       \n",
       "Taipei                   38\n",
       "New Taipei City          16\n",
       "Kaohsiung                 7\n",
       "Hsinchu                   5\n",
       "Taoyuan                   5\n",
       "Zhubei                    5\n",
       "Taichung                  4\n",
       "Tainan                    4\n",
       "Changhua                  1\n",
       "Chiayi                    1"
      ]
     },
     "execution_count": 16,
     "metadata": {},
     "output_type": "execute_result"
    }
   ],
   "source": [
    "#HC companies distribution in Taiwan\n",
    "TW_pv = pd.pivot_table(\n",
    "                   df[df.HQ == 'TW'], index = 'city', \n",
    "                   values = 'company_name', \n",
    "                   aggfunc= 'count'\n",
    "                     ).sort_values('company_name', ascending = False).dropna()\n",
    "TW_pv.rename(columns = {'company_name':'comp_count'}, inplace = True)\n",
    "TW_pv.head(10)"
   ]
  },
  {
   "cell_type": "code",
   "execution_count": 17,
   "metadata": {
    "scrolled": true
   },
   "outputs": [],
   "source": [
    "#created pivot df\n",
    "df_pivots = df[['HQ', 'province', 'city', 'type', 'industries', 'certification_by', 'age_of_company', 'company_name']].reset_index()\n",
    "df_pivots.rename(columns = {'company_name':'comp_count'}, inplace = True)\n"
   ]
  },
  {
   "cell_type": "code",
   "execution_count": 18,
   "metadata": {},
   "outputs": [
    {
     "name": "stdout",
     "output_type": "stream",
     "text": [
      "index\n",
      "       comp_count\n",
      "index            \n",
      "0               1\n",
      "730             1\n",
      "736             1\n",
      "735             1\n",
      "734             1\n",
      "...           ...\n",
      "372             1\n",
      "373             1\n",
      "374             1\n",
      "375             1\n",
      "1098            1\n",
      "\n",
      "[1099 rows x 1 columns]\n",
      "HQ\n",
      "    comp_count\n",
      "HQ            \n",
      "CN         874\n",
      "KR         134\n",
      "TW          91\n",
      "province\n",
      "          comp_count\n",
      "province            \n",
      "GD               178\n",
      "JS               106\n",
      "ZJ                94\n",
      "SH                88\n",
      "BJ                88\n",
      "...              ...\n",
      "NM                 2\n",
      "SX                 2\n",
      "GS                 1\n",
      "XJ                 1\n",
      "XZ                 1\n",
      "\n",
      "[29 rows x 1 columns]\n",
      "city\n",
      "              comp_count\n",
      "city                    \n",
      "Shenzhen             107\n",
      "Shanghai              86\n",
      "Beijing               84\n",
      "Seoul                 55\n",
      "Hangzhou              42\n",
      "...                  ...\n",
      "Qianjiang              1\n",
      "Pohang                 1\n",
      "Pingxiang              1\n",
      "Pingdingshan           1\n",
      "Anseong                1\n",
      "\n",
      "[188 rows x 1 columns]\n",
      "type\n",
      "                   comp_count\n",
      "type                         \n",
      "PRIVATELY_HELD            495\n",
      "PUBLIC_COMPANY            328\n",
      "PARTNERSHIP               144\n",
      "SELF_OWNED                 79\n",
      "SELF_EMPLOYED              51\n",
      "GOVERNMENT_AGENCY           2\n",
      "industries\n",
      "                 comp_count\n",
      "industries                 \n",
      "Medical Device          468\n",
      "Biotechnology           324\n",
      "Pharmaceuticals         307\n",
      "certification_by\n",
      "                         comp_count\n",
      "certification_by                   \n",
      "CE(for medical devices)         186\n",
      "FDA                              39\n",
      "EMA                               3\n",
      "age_of_company\n",
      "                comp_count\n",
      "age_of_company            \n",
      "13                      67\n",
      "8                       59\n",
      "11                      52\n",
      "17                      52\n",
      "21                      48\n",
      "...                    ...\n",
      "41                       1\n",
      "30                       1\n",
      "39                       1\n",
      "38                       1\n",
      "89                       1\n",
      "\n",
      "[61 rows x 1 columns]\n",
      "comp_count\n"
     ]
    },
    {
     "ename": "ValueError",
     "evalue": "Grouper for 'comp_count' not 1-dimensional",
     "output_type": "error",
     "traceback": [
      "\u001b[0;31m---------------------------------------------------------------------------\u001b[0m",
      "\u001b[0;31mValueError\u001b[0m                                Traceback (most recent call last)",
      "\u001b[0;32m<ipython-input-18-071b198074b1>\u001b[0m in \u001b[0;36m<module>\u001b[0;34m\u001b[0m\n\u001b[1;32m      1\u001b[0m \u001b[0;32mfor\u001b[0m \u001b[0mi\u001b[0m \u001b[0;32min\u001b[0m \u001b[0mdf_pivots\u001b[0m\u001b[0;34m.\u001b[0m\u001b[0mcolumns\u001b[0m\u001b[0;34m:\u001b[0m\u001b[0;34m\u001b[0m\u001b[0;34m\u001b[0m\u001b[0m\n\u001b[1;32m      2\u001b[0m       \u001b[0mprint\u001b[0m\u001b[0;34m(\u001b[0m\u001b[0mi\u001b[0m\u001b[0;34m)\u001b[0m\u001b[0;34m\u001b[0m\u001b[0;34m\u001b[0m\u001b[0m\n\u001b[0;32m----> 3\u001b[0;31m       print(pd.pivot_table(df_pivots, index = i, \n\u001b[0m\u001b[1;32m      4\u001b[0m                            \u001b[0mvalues\u001b[0m\u001b[0;34m=\u001b[0m\u001b[0;34m'comp_count'\u001b[0m\u001b[0;34m,\u001b[0m \u001b[0maggfunc\u001b[0m\u001b[0;34m=\u001b[0m\u001b[0;34m'count'\u001b[0m\u001b[0;34m\u001b[0m\u001b[0;34m\u001b[0m\u001b[0m\n\u001b[1;32m      5\u001b[0m                           ).sort_values('comp_count', ascending=False))\n",
      "\u001b[0;32m/opt/anaconda3/lib/python3.8/site-packages/pandas/core/reshape/pivot.py\u001b[0m in \u001b[0;36mpivot_table\u001b[0;34m(data, values, index, columns, aggfunc, fill_value, margins, dropna, margins_name, observed)\u001b[0m\n\u001b[1;32m    109\u001b[0m         \u001b[0mvalues\u001b[0m \u001b[0;34m=\u001b[0m \u001b[0mlist\u001b[0m\u001b[0;34m(\u001b[0m\u001b[0mvalues\u001b[0m\u001b[0;34m)\u001b[0m\u001b[0;34m\u001b[0m\u001b[0;34m\u001b[0m\u001b[0m\n\u001b[1;32m    110\u001b[0m \u001b[0;34m\u001b[0m\u001b[0m\n\u001b[0;32m--> 111\u001b[0;31m     \u001b[0mgrouped\u001b[0m \u001b[0;34m=\u001b[0m \u001b[0mdata\u001b[0m\u001b[0;34m.\u001b[0m\u001b[0mgroupby\u001b[0m\u001b[0;34m(\u001b[0m\u001b[0mkeys\u001b[0m\u001b[0;34m,\u001b[0m \u001b[0mobserved\u001b[0m\u001b[0;34m=\u001b[0m\u001b[0mobserved\u001b[0m\u001b[0;34m)\u001b[0m\u001b[0;34m\u001b[0m\u001b[0;34m\u001b[0m\u001b[0m\n\u001b[0m\u001b[1;32m    112\u001b[0m     \u001b[0magged\u001b[0m \u001b[0;34m=\u001b[0m \u001b[0mgrouped\u001b[0m\u001b[0;34m.\u001b[0m\u001b[0magg\u001b[0m\u001b[0;34m(\u001b[0m\u001b[0maggfunc\u001b[0m\u001b[0;34m)\u001b[0m\u001b[0;34m\u001b[0m\u001b[0;34m\u001b[0m\u001b[0m\n\u001b[1;32m    113\u001b[0m     \u001b[0;32mif\u001b[0m \u001b[0mdropna\u001b[0m \u001b[0;32mand\u001b[0m \u001b[0misinstance\u001b[0m\u001b[0;34m(\u001b[0m\u001b[0magged\u001b[0m\u001b[0;34m,\u001b[0m \u001b[0mABCDataFrame\u001b[0m\u001b[0;34m)\u001b[0m \u001b[0;32mand\u001b[0m \u001b[0mlen\u001b[0m\u001b[0;34m(\u001b[0m\u001b[0magged\u001b[0m\u001b[0;34m.\u001b[0m\u001b[0mcolumns\u001b[0m\u001b[0;34m)\u001b[0m\u001b[0;34m:\u001b[0m\u001b[0;34m\u001b[0m\u001b[0;34m\u001b[0m\u001b[0m\n",
      "\u001b[0;32m/opt/anaconda3/lib/python3.8/site-packages/pandas/core/frame.py\u001b[0m in \u001b[0;36mgroupby\u001b[0;34m(self, by, axis, level, as_index, sort, group_keys, squeeze, observed, dropna)\u001b[0m\n\u001b[1;32m   6509\u001b[0m         \u001b[0maxis\u001b[0m \u001b[0;34m=\u001b[0m \u001b[0mself\u001b[0m\u001b[0;34m.\u001b[0m\u001b[0m_get_axis_number\u001b[0m\u001b[0;34m(\u001b[0m\u001b[0maxis\u001b[0m\u001b[0;34m)\u001b[0m\u001b[0;34m\u001b[0m\u001b[0;34m\u001b[0m\u001b[0m\n\u001b[1;32m   6510\u001b[0m \u001b[0;34m\u001b[0m\u001b[0m\n\u001b[0;32m-> 6511\u001b[0;31m         return DataFrameGroupBy(\n\u001b[0m\u001b[1;32m   6512\u001b[0m             \u001b[0mobj\u001b[0m\u001b[0;34m=\u001b[0m\u001b[0mself\u001b[0m\u001b[0;34m,\u001b[0m\u001b[0;34m\u001b[0m\u001b[0;34m\u001b[0m\u001b[0m\n\u001b[1;32m   6513\u001b[0m             \u001b[0mkeys\u001b[0m\u001b[0;34m=\u001b[0m\u001b[0mby\u001b[0m\u001b[0;34m,\u001b[0m\u001b[0;34m\u001b[0m\u001b[0;34m\u001b[0m\u001b[0m\n",
      "\u001b[0;32m/opt/anaconda3/lib/python3.8/site-packages/pandas/core/groupby/groupby.py\u001b[0m in \u001b[0;36m__init__\u001b[0;34m(self, obj, keys, axis, level, grouper, exclusions, selection, as_index, sort, group_keys, squeeze, observed, mutated, dropna)\u001b[0m\n\u001b[1;32m    523\u001b[0m             \u001b[0;32mfrom\u001b[0m \u001b[0mpandas\u001b[0m\u001b[0;34m.\u001b[0m\u001b[0mcore\u001b[0m\u001b[0;34m.\u001b[0m\u001b[0mgroupby\u001b[0m\u001b[0;34m.\u001b[0m\u001b[0mgrouper\u001b[0m \u001b[0;32mimport\u001b[0m \u001b[0mget_grouper\u001b[0m\u001b[0;34m\u001b[0m\u001b[0;34m\u001b[0m\u001b[0m\n\u001b[1;32m    524\u001b[0m \u001b[0;34m\u001b[0m\u001b[0m\n\u001b[0;32m--> 525\u001b[0;31m             grouper, exclusions, obj = get_grouper(\n\u001b[0m\u001b[1;32m    526\u001b[0m                 \u001b[0mobj\u001b[0m\u001b[0;34m,\u001b[0m\u001b[0;34m\u001b[0m\u001b[0;34m\u001b[0m\u001b[0m\n\u001b[1;32m    527\u001b[0m                 \u001b[0mkeys\u001b[0m\u001b[0;34m,\u001b[0m\u001b[0;34m\u001b[0m\u001b[0;34m\u001b[0m\u001b[0m\n",
      "\u001b[0;32m/opt/anaconda3/lib/python3.8/site-packages/pandas/core/groupby/grouper.py\u001b[0m in \u001b[0;36mget_grouper\u001b[0;34m(obj, key, axis, level, sort, observed, mutated, validate, dropna)\u001b[0m\n\u001b[1;32m    796\u001b[0m         \u001b[0;31m# allow us to passing the actual Grouping as the gpr\u001b[0m\u001b[0;34m\u001b[0m\u001b[0;34m\u001b[0m\u001b[0;34m\u001b[0m\u001b[0m\n\u001b[1;32m    797\u001b[0m         ping = (\n\u001b[0;32m--> 798\u001b[0;31m             Grouping(\n\u001b[0m\u001b[1;32m    799\u001b[0m                 \u001b[0mgroup_axis\u001b[0m\u001b[0;34m,\u001b[0m\u001b[0;34m\u001b[0m\u001b[0;34m\u001b[0m\u001b[0m\n\u001b[1;32m    800\u001b[0m                 \u001b[0mgpr\u001b[0m\u001b[0;34m,\u001b[0m\u001b[0;34m\u001b[0m\u001b[0;34m\u001b[0m\u001b[0m\n",
      "\u001b[0;32m/opt/anaconda3/lib/python3.8/site-packages/pandas/core/groupby/grouper.py\u001b[0m in \u001b[0;36m__init__\u001b[0;34m(self, index, grouper, obj, name, level, sort, observed, in_axis, dropna)\u001b[0m\n\u001b[1;32m    515\u001b[0m                 \u001b[0;32mif\u001b[0m \u001b[0mgetattr\u001b[0m\u001b[0;34m(\u001b[0m\u001b[0mself\u001b[0m\u001b[0;34m.\u001b[0m\u001b[0mgrouper\u001b[0m\u001b[0;34m,\u001b[0m \u001b[0;34m\"ndim\"\u001b[0m\u001b[0;34m,\u001b[0m \u001b[0;36m1\u001b[0m\u001b[0;34m)\u001b[0m \u001b[0;34m!=\u001b[0m \u001b[0;36m1\u001b[0m\u001b[0;34m:\u001b[0m\u001b[0;34m\u001b[0m\u001b[0;34m\u001b[0m\u001b[0m\n\u001b[1;32m    516\u001b[0m                     \u001b[0mt\u001b[0m \u001b[0;34m=\u001b[0m \u001b[0mself\u001b[0m\u001b[0;34m.\u001b[0m\u001b[0mname\u001b[0m \u001b[0;32mor\u001b[0m \u001b[0mstr\u001b[0m\u001b[0;34m(\u001b[0m\u001b[0mtype\u001b[0m\u001b[0;34m(\u001b[0m\u001b[0mself\u001b[0m\u001b[0;34m.\u001b[0m\u001b[0mgrouper\u001b[0m\u001b[0;34m)\u001b[0m\u001b[0;34m)\u001b[0m\u001b[0;34m\u001b[0m\u001b[0;34m\u001b[0m\u001b[0m\n\u001b[0;32m--> 517\u001b[0;31m                     \u001b[0;32mraise\u001b[0m \u001b[0mValueError\u001b[0m\u001b[0;34m(\u001b[0m\u001b[0;34mf\"Grouper for '{t}' not 1-dimensional\"\u001b[0m\u001b[0;34m)\u001b[0m\u001b[0;34m\u001b[0m\u001b[0;34m\u001b[0m\u001b[0m\n\u001b[0m\u001b[1;32m    518\u001b[0m                 \u001b[0mself\u001b[0m\u001b[0;34m.\u001b[0m\u001b[0mgrouper\u001b[0m \u001b[0;34m=\u001b[0m \u001b[0mself\u001b[0m\u001b[0;34m.\u001b[0m\u001b[0mindex\u001b[0m\u001b[0;34m.\u001b[0m\u001b[0mmap\u001b[0m\u001b[0;34m(\u001b[0m\u001b[0mself\u001b[0m\u001b[0;34m.\u001b[0m\u001b[0mgrouper\u001b[0m\u001b[0;34m)\u001b[0m\u001b[0;34m\u001b[0m\u001b[0;34m\u001b[0m\u001b[0m\n\u001b[1;32m    519\u001b[0m                 if not (\n",
      "\u001b[0;31mValueError\u001b[0m: Grouper for 'comp_count' not 1-dimensional"
     ]
    }
   ],
   "source": [
    "for i in df_pivots.columns: \n",
    "      print(i) \n",
    "      print(pd.pivot_table(df_pivots, index = i, \n",
    "                           values='comp_count', aggfunc='count'\n",
    "                          ).sort_values('comp_count', ascending=False))"
   ]
  },
  {
   "cell_type": "code",
   "execution_count": null,
   "metadata": {},
   "outputs": [],
   "source": [
    "#pivot tables by country level(i.e.China)\n",
    "for i in df_pivots.columns: \n",
    "      print(i) \n",
    "      print(pd.pivot_table(df_pivots[df_pivots.HQ.apply(lambda x:x=='CN')], index = i, \n",
    "                           values='comp_count', aggfunc='count'\n",
    "                          ).sort_values('comp_count', ascending=False))"
   ]
  },
  {
   "cell_type": "code",
   "execution_count": null,
   "metadata": {},
   "outputs": [],
   "source": [
    "#read a new file: therapeutic areas cleaned\n",
    "df1 = pd.read_csv('therapeutic_areas_cleaned.csv')\n",
    "df1.head()"
   ]
  },
  {
   "cell_type": "code",
   "execution_count": null,
   "metadata": {},
   "outputs": [],
   "source": [
    "#created pivot for df1\n",
    "df1_pivots = df1[['HQ', 'province', 'city', 'type', 'industries', 'age_of_company', 'therapeutic_area', 'company_name']].reset_index()\n",
    "df1_pivots.rename(columns = {'company_name':'comp_count'}, inplace = True)"
   ]
  },
  {
   "cell_type": "code",
   "execution_count": null,
   "metadata": {},
   "outputs": [],
   "source": [
    "#pivots tables for the companies who covered our target therapeutic areas\n",
    "for i in df1_pivots.columns: \n",
    "      print(i) \n",
    "      print(pd.pivot_table(df1_pivots, index = i, \n",
    "                           values='comp_count', aggfunc='count'\n",
    "                          ).sort_values('comp_count', ascending=False))"
   ]
  },
  {
   "cell_type": "code",
   "execution_count": null,
   "metadata": {},
   "outputs": [],
   "source": [
    "#therapeutic area distribution\n",
    "df1_cat = df1['therapeutic_area']\n",
    "\n",
    "cat_num = df1_cat.value_counts()\n",
    "print(\"graph for %s: total =%d\" % (i, len(cat_num))) \n",
    "chart = sns.barplot(x=cat_num.index, y=cat_num) \n",
    "chart.set_xticklabels(chart.get_xticklabels(), rotation = 90)\n",
    "plt.show()"
   ]
  },
  {
   "cell_type": "code",
   "execution_count": null,
   "metadata": {},
   "outputs": [],
   "source": [
    "#therapeutic area distribution by country level(i.e. China)\n",
    "for i in df1_pivots.columns: \n",
    "      print(i) \n",
    "      print(pd.pivot_table(df1_pivots[df1_pivots.HQ.apply(lambda x:x=='CN')], index = i, \n",
    "                           values='comp_count', aggfunc='count'\n",
    "                          ).sort_values('comp_count', ascending=False))"
   ]
  },
  {
   "cell_type": "code",
   "execution_count": null,
   "metadata": {},
   "outputs": [],
   "source": [
    "#number of thera areas covered by each company\n",
    "thera_pv = df1.pivot_table(\n",
    "                   index = ['HQ', 'city', 'company_name'],\n",
    "                   values = 'therapeutic_area',\n",
    "                   aggfunc = 'count'\n",
    "                     ).sort_values('company_name')\n",
    "thera_pv.rename(columns = {'therapeutic_area':'thera_count'}, inplace = True)\n",
    "thera_pv.head(10)\n"
   ]
  },
  {
   "cell_type": "code",
   "execution_count": null,
   "metadata": {},
   "outputs": [],
   "source": [
    "thera_pv = df1.pivot_table(\n",
    "                   index = ['HQ', 'city', 'company_name'],\n",
    "                   values = 'therapeutic_area',\n",
    "                   aggfunc = sum\n",
    "                     ).sort_values('company_name')\n",
    "thera_pv.head(10)"
   ]
  },
  {
   "cell_type": "code",
   "execution_count": null,
   "metadata": {},
   "outputs": [],
   "source": []
  }
 ],
 "metadata": {
  "kernelspec": {
   "display_name": "Python 3",
   "language": "python",
   "name": "python3"
  },
  "language_info": {
   "codemirror_mode": {
    "name": "ipython",
    "version": 3
   },
   "file_extension": ".py",
   "mimetype": "text/x-python",
   "name": "python",
   "nbconvert_exporter": "python",
   "pygments_lexer": "ipython3",
   "version": "3.8.5"
  }
 },
 "nbformat": 4,
 "nbformat_minor": 4
}
